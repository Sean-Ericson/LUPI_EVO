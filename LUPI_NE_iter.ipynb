{
 "cells": [
  {
   "cell_type": "code",
   "execution_count": 1,
   "metadata": {},
   "outputs": [],
   "source": [
    "import numpy as np\n",
    "import sympy as sp\n",
    "from sympy.abc import x, y\n",
    "import matplotlib.pyplot as plt\n",
    "import pickle\n",
    "from datetime import datetime\n",
    "from functools import reduce\n",
    "from scipy.optimize import fsolve, minimize\n",
    "from IPython.display import clear_output"
   ]
  },
  {
   "cell_type": "code",
   "execution_count": 2,
   "metadata": {},
   "outputs": [],
   "source": [
    "#Some code that implements progress bars for long computations\n",
    "#https://www.mikulskibartosz.name/how-to-display-a-progress-bar-in-jupyter-notebook/\n",
    "bar_length = 20\n",
    "def update_progress(progress):\n",
    "    if isinstance(progress, int):\n",
    "        progress = float(progress)\n",
    "    if not isinstance(progress, float):\n",
    "        progress = 0\n",
    "    if progress < 0:\n",
    "        progress = 0\n",
    "    if progress >= 1:\n",
    "        progress = 1\n",
    "\n",
    "    block = int(round(bar_length * progress))\n",
    "\n",
    "    clear_output(wait = True)\n",
    "    text = \"Progress: [{0}] {1:.1f}%\".format( \"#\" * block + \"-\" * (bar_length - block), progress * 100)\n",
    "    print(text)"
   ]
  },
  {
   "cell_type": "code",
   "execution_count": 3,
   "metadata": {},
   "outputs": [],
   "source": [
    "with open(\"data/NE_3-14.pk\", 'rb') as file:\n",
    "    NE_data = pickle.load(file)\n",
    "\n",
    "def f1(n):\n",
    "    a, b, c = (0.06672678, 0.29865376, -0.79503788)\n",
    "    return a + np.exp(-b*n + c)\n",
    "\n",
    "# for n in range(N, N+1):\n",
    "#     print(\"N = \" + str(n))\n",
    "#     print(\"\\tc0 = \" + str(NE_data[n][0]))\n",
    "#     print(\"\\t   ~ {}\".format(f1(n)))\n",
    "#     for m in range(1, n+1):\n",
    "#         print(\"\\tp{} = {}\".format(m, NE_data[n][m]))"
   ]
  },
  {
   "cell_type": "code",
   "execution_count": 4,
   "metadata": {},
   "outputs": [],
   "source": [
    "N_min = 3\n",
    "for N in range(N_min, N_min):\n",
    "    p = sp.IndexedBase('p')\n",
    "    i,j = sp.symbols('i j', cls=sp.Idx, range=(1,N))\n",
    "    Z0, c0 = sp.symbols('Z0, c0')\n",
    "    Z0 = sp.summation(p[i], (i, 1, N))**(N-1)\n",
    "    L = lambda i: lambda Q: p[i]*sp.diff(Q, p[i]).subs(p[i], 0)\n",
    "    OneMinusL = lambda i: lambda Q: Q - L(i)(Q)\n",
    "\n",
    "    Z_memo = dict()\n",
    "    def Z(i):\n",
    "        if i == 0:\n",
    "            return Z0\n",
    "        if i in Z_memo.keys():\n",
    "            return Z_memo[i]\n",
    "        Z_memo[i] = OneMinusL(i)(Z(i-1))\n",
    "        return Z_memo[i]\n",
    "\n",
    "    c_memo = dict()\n",
    "    def c(i):\n",
    "        if i in c_memo.keys():\n",
    "            return c_memo[i]\n",
    "        c_memo[i] = Z(i-1).subs(p[i], 0)\n",
    "        return c_memo[i]\n",
    "\n",
    "    c0s = np.linspace(0, NE_data[N-1][0] if N > N_min and N !=5 else .3, 100)\n",
    "    errors = []\n",
    "    for c0_init in c0s:\n",
    "        ps = {c0: c0_init}\n",
    "        for i in range(1, N):\n",
    "            ci = c(i).subs(p[N], 1 - sp.summation(p[j], (j, 1, N-1)))\n",
    "            eq = ci - c0\n",
    "            try:\n",
    "                #soln = sp.nsolve(eq.subs(ps).subs(p[i], x), 0)\n",
    "                soln = fsolve(lambda x: [sp.lambdify([p[i]], eq.subs(ps))(*x)], 0)[0]\n",
    "                ps[p[i]] = soln\n",
    "            except:\n",
    "                ps[p[i]] = sp.nan\n",
    "        error = (c(N) - c0).subs(ps)**2\n",
    "        errors.append(error)\n",
    "        update_progress((list(c0s).index(c0_init)+1) / len(c0s))\n",
    "\n",
    "    errors = np.array(errors)\n",
    "    nan_mask = [x != sp.nan for x in errors]\n",
    "    plt.clf()\n",
    "    plt.plot(c0s[nan_mask], errors[nan_mask], '.')\n",
    "    plt.plot(c0s[np.logical_not(nan_mask)], np.zeros(len(c0s[np.logical_not(nan_mask)])), 'r.')\n",
    "    plt.plot([NE_data[N][0]], [0], 'b.')\n",
    "    plt.xlim(0, c0s[-1])\n",
    "    #plt.savefig(\"error{}.png\".format(N))\n",
    "    print(len(c0s[np.logical_not(nan_mask)]))"
   ]
  },
  {
   "cell_type": "code",
   "execution_count": 5,
   "metadata": {},
   "outputs": [
    {
     "ename": "NameError",
     "evalue": "name 'errors' is not defined",
     "output_type": "error",
     "traceback": [
      "\u001b[1;31m---------------------------------------------------------------------------\u001b[0m",
      "\u001b[1;31mNameError\u001b[0m                                 Traceback (most recent call last)",
      "Cell \u001b[1;32mIn[5], line 1\u001b[0m\n\u001b[1;32m----> 1\u001b[0m errors \u001b[38;5;241m=\u001b[39m np\u001b[38;5;241m.\u001b[39marray(\u001b[43merrors\u001b[49m)\n\u001b[0;32m      2\u001b[0m nan_mask \u001b[38;5;241m=\u001b[39m [x \u001b[38;5;241m!=\u001b[39m sp\u001b[38;5;241m.\u001b[39mnan \u001b[38;5;28;01mfor\u001b[39;00m x \u001b[38;5;129;01min\u001b[39;00m errors]\n\u001b[0;32m      3\u001b[0m plt\u001b[38;5;241m.\u001b[39mplot(c0s[nan_mask], errors[nan_mask], \u001b[38;5;124m'\u001b[39m\u001b[38;5;124m.\u001b[39m\u001b[38;5;124m'\u001b[39m)\n",
      "\u001b[1;31mNameError\u001b[0m: name 'errors' is not defined"
     ]
    }
   ],
   "source": [
    "errors = np.array(errors)\n",
    "nan_mask = [x != sp.nan for x in errors]\n",
    "plt.plot(c0s[nan_mask], errors[nan_mask], '.')\n",
    "plt.plot(c0s[np.logical_not(nan_mask)], np.zeros(len(c0s[np.logical_not(nan_mask)])), 'r.')\n",
    "plt.plot([NE_data[N][0]], [0], 'b.')\n",
    "plt.xlim(c0_min, c0_max)\n",
    "plt.show()\n",
    "print(len(c0s[np.logical_not(nan_mask)]))"
   ]
  },
  {
   "cell_type": "code",
   "execution_count": 6,
   "metadata": {},
   "outputs": [
    {
     "name": "stdout",
     "output_type": "stream",
     "text": [
      "N =  3\n",
      "Start Time:  2024-05-02 19:43:43.977272\n"
     ]
    },
    {
     "name": "stderr",
     "output_type": "stream",
     "text": [
      "C:\\Users\\Sean\\AppData\\Local\\Temp\\ipykernel_2800\\1554770450.py:36: RuntimeWarning: The iteration is not making good progress, as measured by the \n",
      "  improvement from the last ten iterations.\n",
      "  soln = fsolve(lambda x: np.array([float(sp.lambdify([p[i]], eq.subs(ps))(*x))], dtype=np.float64), 0)[0]\n"
     ]
    },
    {
     "ename": "NameError",
     "evalue": "name 'ps' is not defined",
     "output_type": "error",
     "traceback": [
      "\u001b[1;31m---------------------------------------------------------------------------\u001b[0m",
      "\u001b[1;31mNameError\u001b[0m                                 Traceback (most recent call last)",
      "Cell \u001b[1;32mIn[6], line 44\u001b[0m\n\u001b[0;32m     42\u001b[0m res \u001b[38;5;241m=\u001b[39m minimize(error_func, \u001b[38;5;241m1\u001b[39m \u001b[38;5;28;01mif\u001b[39;00m N \u001b[38;5;241m==\u001b[39m \u001b[38;5;241m3\u001b[39m \u001b[38;5;28;01melse\u001b[39;00m c0_data[N\u001b[38;5;241m-\u001b[39m\u001b[38;5;241m1\u001b[39m], bounds\u001b[38;5;241m=\u001b[39m[(\u001b[38;5;241m0\u001b[39m, \u001b[38;5;241m1\u001b[39m \u001b[38;5;28;01mif\u001b[39;00m N \u001b[38;5;241m==\u001b[39m \u001b[38;5;241m3\u001b[39m \u001b[38;5;129;01mor\u001b[39;00m N \u001b[38;5;241m==\u001b[39m \u001b[38;5;241m5\u001b[39m \u001b[38;5;28;01melse\u001b[39;00m c0_data[N\u001b[38;5;241m-\u001b[39m\u001b[38;5;241m1\u001b[39m])])\n\u001b[0;32m     43\u001b[0m c0_data[N] \u001b[38;5;241m=\u001b[39m res\u001b[38;5;241m.\u001b[39mx[\u001b[38;5;241m0\u001b[39m]\n\u001b[1;32m---> 44\u001b[0m test_ps\u001b[38;5;241m.\u001b[39mappend(\u001b[43mps\u001b[49m)\n\u001b[0;32m     45\u001b[0m \u001b[38;5;28mprint\u001b[39m(res)\n\u001b[0;32m     46\u001b[0m \u001b[38;5;28;01mif\u001b[39;00m N \u001b[38;5;129;01min\u001b[39;00m NE_data\u001b[38;5;241m.\u001b[39mkeys():\n",
      "\u001b[1;31mNameError\u001b[0m: name 'ps' is not defined"
     ]
    }
   ],
   "source": [
    "c0_data = dict()\n",
    "test_ps = []\n",
    "for N in range(3, 6):\n",
    "    start_time = datetime.now()\n",
    "    print(\"N = \", N)\n",
    "    print(\"Start Time: \", start_time)\n",
    "\n",
    "    p = sp.IndexedBase('p')\n",
    "    i,j = sp.symbols('i j', cls=sp.Idx, range=(1,N))\n",
    "    Z0, c0 = sp.symbols('Z0, c0')\n",
    "    Z0 = sp.summation(p[i], (i, 1, N))**(N-1)\n",
    "    L = lambda i: lambda Q: p[i]*sp.diff(Q, p[i]).subs(p[i], 0)\n",
    "    OneMinusL = lambda i: lambda Q: Q - L(i)(Q)\n",
    "\n",
    "    Z_memo = dict()\n",
    "    def Z(i):\n",
    "        if i == 0:\n",
    "            return Z0\n",
    "        if i in Z_memo.keys():\n",
    "            return Z_memo[i]\n",
    "        Z_memo[i] = OneMinusL(i)(Z(i-1))\n",
    "        return Z_memo[i]\n",
    "\n",
    "    c_memo = dict()\n",
    "    def c(i):\n",
    "        if i in c_memo.keys():\n",
    "            return c_memo[i]\n",
    "        c_memo[i] = Z(i-1).subs(p[i], 0)\n",
    "        return c_memo[i]\n",
    "\n",
    "    def error_func(initial_c0):\n",
    "        ps = {c0: float(initial_c0)}\n",
    "        for i in range(1, N):\n",
    "            ci = c(i).subs(p[N], 1 - sp.summation(p[j], (j, 1, N-1)))\n",
    "            eq = ci - c0\n",
    "            soln = fsolve(lambda x: np.array([float(sp.lambdify([p[i]], eq.subs(ps))(*x))], dtype=np.float64), 0)[0]\n",
    "            ps[p[i]] = float(soln)\n",
    "        delta = (c(N) - c0).subs(ps).simplify()\n",
    "        error = np.real(np.abs(delta**2))\n",
    "        return float(error)\n",
    "\n",
    "    res = minimize(error_func, 1 if N == 3 else c0_data[N-1], bounds=[(0, 1 if N == 3 or N == 5 else c0_data[N-1])])\n",
    "    c0_data[N] = res.x[0]\n",
    "    print(res)\n",
    "    if N in NE_data.keys():\n",
    "        foo = res.x[0]\n",
    "        bar = NE_data[N][0]\n",
    "        print(foo, bar, (bar-foo)/bar)\n",
    "    \n",
    "    end_time = datetime.now()\n",
    "    print(\"End Time: \", end_time)\n",
    "    diff = end_time - start_time\n",
    "    print(\"Elapsed Time: {} days {} hours {} minutes {} seconds {} milliseconds {} microseconds\".format(diff.days, diff.seconds // 3600, (diff.seconds // 60) % 60, diff.seconds % 60, diff.microseconds // 1000, diff.microseconds % 1000))\n",
    "    print()"
   ]
  },
  {
   "cell_type": "code",
   "execution_count": null,
   "metadata": {},
   "outputs": [],
   "source": [
    "# Gradient decent\n",
    "\n",
    "initial_c0 = NE_data[N-1][0]\n",
    "num_iter = 10\n",
    "c0_results = []\n",
    "error_results = []\n",
    "for iter in range(num_iter):\n",
    "    ps = {c0: initial_c0}\n",
    "    derivs = dict()\n",
    "    for i in range(1, N):\n",
    "        ci = c(i).subs(p[N], 1 - sp.summation(p[j], (j, 1, N-1)))\n",
    "        eq = ci - c0\n",
    "        #soln = sp.nsolve(eq.subs(ps).subs(p[i], x), 0)\n",
    "        soln = fsolve(lambda x: [sp.lambdify([p[i]], eq.subs(ps))(*x)], 0)[0]\n",
    "        ps[p[i]] = soln\n",
    "        pdvs = dict()\n",
    "        for l in range(i):\n",
    "            tmp_ps = dict(ps)\n",
    "            del tmp_ps[p[i]]\n",
    "            del tmp_ps[(c0 if l==0 else p[l])]\n",
    "            tmp_eq = eq.subs(tmp_ps)\n",
    "            sub = {p[i]: y, (c0 if l==0 else p[l]): x}\n",
    "            inv_sub = {v:ps[k] for k,v in sub.items()}\n",
    "            pdvs[l] = sp.idiff(tmp_eq.subs(sub), y, x).subs(inv_sub)\n",
    "        derivs[i] = pdvs[0] + sum([derivs[k]*pdvs[k] for k in range(1, i)])\n",
    "    delta = (c(N) - c0).subs(ps).simplify()\n",
    "    cN_prime = sum([sp.diff(c(N), p[i]).subs(ps)*derivs[i] for i in range(1, N)])\n",
    "    error = np.real(np.abs(delta**2))\n",
    "    dE = (2*(cN_prime - 1)*delta)\n",
    "    y_int = error - dE*initial_c0\n",
    "    c0_results.append(initial_c0)\n",
    "    error_results.append(error)\n",
    "    initial_c0 = -y_int / dE\n",
    "    update_progress((iter+1)/num_iter)\n",
    "    "
   ]
  },
  {
   "cell_type": "code",
   "execution_count": null,
   "metadata": {},
   "outputs": [],
   "source": [
    "plt.plot(c0s, errors)\n",
    "plt.plot([NE_data[N][0]], [0], 'r.')\n",
    "for c,e in zip(c0_results, error_results):\n",
    "    plt.plot([c], [e], 'g.')\n",
    "plt.show()"
   ]
  },
  {
   "cell_type": "code",
   "execution_count": null,
   "metadata": {},
   "outputs": [],
   "source": [
    "foo = NE_data[N][0]\n",
    "bar = c0_results[-1]\n",
    "print(foo, bar, (foo-bar)/foo)"
   ]
  },
  {
   "cell_type": "code",
   "execution_count": null,
   "metadata": {},
   "outputs": [],
   "source": []
  }
 ],
 "metadata": {
  "kernelspec": {
   "display_name": "base",
   "language": "python",
   "name": "python3"
  },
  "language_info": {
   "codemirror_mode": {
    "name": "ipython",
    "version": 3
   },
   "file_extension": ".py",
   "mimetype": "text/x-python",
   "name": "python",
   "nbconvert_exporter": "python",
   "pygments_lexer": "ipython3",
   "version": "3.9.18"
  }
 },
 "nbformat": 4,
 "nbformat_minor": 2
}
