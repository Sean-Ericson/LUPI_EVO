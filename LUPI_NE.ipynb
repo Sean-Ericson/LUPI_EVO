{
 "cells": [
  {
   "cell_type": "code",
   "execution_count": 1,
   "metadata": {},
   "outputs": [],
   "source": [
    "import numpy as np\n",
    "import sympy as sp\n",
    "from sympy.abc import x, y\n",
    "import matplotlib.pyplot as plt\n",
    "import pickle\n",
    "from datetime import datetime\n",
    "from functools import reduce\n",
    "from scipy.optimize import fsolve\n",
    "from IPython.display import clear_output"
   ]
  },
  {
   "cell_type": "code",
   "execution_count": 2,
   "metadata": {},
   "outputs": [],
   "source": [
    "def full_soln(x):\n",
    "    return list(x) + [1 - sum(x[1:])]"
   ]
  },
  {
   "cell_type": "code",
   "execution_count": 3,
   "metadata": {},
   "outputs": [],
   "source": [
    "#Some code that implements progress bars for long computations\n",
    "#https://www.mikulskibartosz.name/how-to-display-a-progress-bar-in-jupyter-notebook/\n",
    "bar_length = 20\n",
    "def update_progress(progress):\n",
    "    if isinstance(progress, int):\n",
    "        progress = float(progress)\n",
    "    if not isinstance(progress, float):\n",
    "        progress = 0\n",
    "    if progress < 0:\n",
    "        progress = 0\n",
    "    if progress >= 1:\n",
    "        progress = 1\n",
    "\n",
    "    block = int(round(bar_length * progress))\n",
    "\n",
    "    clear_output(wait = True)\n",
    "    text = \"Progress: [{0}] {1:.1f}%\".format( \"#\" * block + \"-\" * (bar_length - block), progress * 100)\n",
    "    print(text)"
   ]
  },
  {
   "cell_type": "code",
   "execution_count": 4,
   "metadata": {},
   "outputs": [],
   "source": [
    "# NE_data = dict()\n",
    "# for N in range(3, 5):\n",
    "#     start_time = datetime.now()\n",
    "#     print(\"N = \", N)\n",
    "#     print(\"Start Time: \", start_time)\n",
    "    \n",
    "#     p = sp.IndexedBase('p')\n",
    "#     i = sp.symbols('i', cls=sp.Idx, range=(1,N))\n",
    "#     Z0, c0 = sp.symbols('Z0, c0')\n",
    "#     Z0 = sp.summation(p[i], (i, 1, N))**(N-1)\n",
    "#     L = lambda i: lambda Q: p[i]*sp.diff(Q, p[i]).subs(p[i], 0)\n",
    "#     OneMinusL = lambda i: lambda Q: Q - L(i)(Q)\n",
    "#     Z = lambda i: Z0 if i==0 else reduce(lambda f,g: lambda x: f(g(x)), [OneMinusL(x) for x in range(1, i+1)])(Z0)\n",
    "#     c = lambda i: Z(i-1).subs(p[i], 0)\n",
    "#     func = lambda x: [sp.lambdify([c0]+[p[i] for i in range(1, N)], c(j).subs(p[N], 1-sp.summation(p[i], (i, 1, N-1))).simplify()-c0)(*x) for j in range(1, N+1)]\n",
    "#     soln = full_soln(fsolve(func, [1/N for _ in range(N)]))\n",
    "#     print(soln)\n",
    "#     NE_data[N] = soln\n",
    "#     # with open(\"data/NE{}.pk\".format(N), 'wb') as file:\n",
    "#     #     pickle.dump(soln, file)\n",
    "    \n",
    "#     end_time = datetime.now()\n",
    "#     print(\"End Time: \", end_time)\n",
    "#     diff = end_time - start_time\n",
    "#     print(\"Elapsed Time: {} days {} hours {} minutes {} seconds {} milliseconds {} microseconds\".format(diff.days, diff.seconds // 3600, (diff.seconds // 60) % 60, diff.seconds % 60, diff.microseconds // 1000, diff.microseconds % 1000))\n",
    "#     print()"
   ]
  },
  {
   "cell_type": "code",
   "execution_count": 5,
   "metadata": {},
   "outputs": [],
   "source": [
    "N = 7\n",
    "p = sp.IndexedBase('p')\n",
    "i,j = sp.symbols('i j', cls=sp.Idx, range=(1,N))\n",
    "Z0, c0 = sp.symbols('Z0, c0')\n",
    "Z0 = sp.summation(p[i], (i, 1, N))**(N-1)\n",
    "L = lambda i: lambda Q: p[i]*sp.diff(Q, p[i]).subs(p[i], 0)\n",
    "OneMinusL = lambda i: lambda Q: Q - L(i)(Q)\n",
    "Z = lambda i: Z0 if i==0 else reduce(lambda f,g: lambda x: f(g(x)), [OneMinusL(x) for x in range(1, i+1)])(Z0)\n",
    "c = lambda i: Z(i-1).subs(p[i], 0)"
   ]
  },
  {
   "cell_type": "code",
   "execution_count": 6,
   "metadata": {},
   "outputs": [],
   "source": [
    "# c0 = 0.2\n",
    "# ps = dict()\n",
    "# for n in range(1, N):\n",
    "#     func = c(n).subs(p[N], 1-sp.summation(p[j], (j, 1, N-1)))-c0\n",
    "#     display(func)\n",
    "#     func = func.subs(ps)\n",
    "#     ps[p[n]] = sp.solve(func, p[n])[0]\n",
    "#     display(func)\n",
    "#     print(ps[p[n]])\n",
    "# func = c(N).subs(p[1], 1-sp.summation(p[j], (j, 2, N)))-c0\n",
    "# display(func)\n",
    "# func = func.subs(ps)\n",
    "# display(func)\n",
    "# pN = sp.solve(func, p[N])\n",
    "# print(pN)"
   ]
  },
  {
   "cell_type": "code",
   "execution_count": 7,
   "metadata": {},
   "outputs": [
    {
     "name": "stdout",
     "output_type": "stream",
     "text": [
      "N = 7\n",
      "\tc0 = 0.12322710099769263\n",
      "\t   ~ 0.12254727405797092\n",
      "\tp1 = 0.29457468849635626\n",
      "\tp2 = 0.2704791356644377\n",
      "\tp3 = 0.22475052400170645\n",
      "\tp4 = 0.1407314817155909\n",
      "\tp5 = 0.05808757884824096\n",
      "\tp6 = 0.010979491995179528\n",
      "\tp7 = 0.0003970992784880778\n"
     ]
    }
   ],
   "source": [
    "with open(\"data/NE_3-11.pk\", 'rb') as file:\n",
    "    NE_data = pickle.load(file)\n",
    "\n",
    "def f1(n):\n",
    "    a, b, c = (0.06672678, 0.29865376, -0.79503788)\n",
    "    return a + np.exp(-b*n + c)\n",
    "\n",
    "for n in range(N, N+1):\n",
    "    print(\"N = \" + str(n))\n",
    "    print(\"\\tc0 = \" + str(NE_data[n][0]))\n",
    "    print(\"\\t   ~ {}\".format(f1(n)))\n",
    "    for m in range(1, n+1):\n",
    "        print(\"\\tp{} = {}\".format(m, NE_data[n][m]))"
   ]
  },
  {
   "cell_type": "code",
   "execution_count": 8,
   "metadata": {},
   "outputs": [
    {
     "name": "stdout",
     "output_type": "stream",
     "text": [
      "Progress: [####################] 98.0%\n"
     ]
    }
   ],
   "source": [
    "guess = NE_data[N][0]\n",
    "pm = 0.01\n",
    "c0s = np.linspace((1-pm)*guess, NE_data[N-1][0], 50)\n",
    "errors = []\n",
    "for guess in c0s:\n",
    "    ps = {c0: guess}\n",
    "    derivs = dict()\n",
    "    for i in range(1, N):\n",
    "        ci = c(i).subs(p[N], 1 - sp.summation(p[j], (j, 1, N-1)))\n",
    "        eq = ci - c0\n",
    "        soln = sp.nsolve(eq.subs(ps).simplify().subs(p[i], x), 0).simplify()\n",
    "        \n",
    "        ps[p[i]] = soln\n",
    "        \n",
    "        if guess == c0s[-1]:\n",
    "            update_progress(i/N)\n",
    "            pdvs = dict()\n",
    "            for l in range(i):\n",
    "                sub = {p[i]: y, (c0 if l==0 else p[l]): x}\n",
    "                inv_sub = {v:k for k,v in sub.items()}\n",
    "                pdvs[l] = sp.re(sp.idiff(eq.subs(sub), y, x).subs(inv_sub).subs(ps).simplify())\n",
    "\n",
    "            derivs[i] = pdvs[0] + sum([derivs[k]*pdvs[k] for k in range(1, i)])\n",
    "            \n",
    "    error = np.real(np.abs((c(N) - c0).subs(ps).simplify())**2)\n",
    "    errors.append(error)\n",
    "    update_progress(list(c0s).index(guess) / len(c0s))\n",
    "\n",
    "delta = (c(N) - c0).subs(ps).simplify()\n",
    "error = np.real(np.abs(delta**2))\n",
    "cN_prime = sp.re(sum([sp.diff(c(N), p[i]).subs(ps)*derivs[i] for i in range(1, N)]).simplify())\n",
    "dE = sp.re((2*(cN_prime - 1)*delta).simplify())"
   ]
  },
  {
   "cell_type": "code",
   "execution_count": 9,
   "metadata": {},
   "outputs": [
    {
     "name": "stdout",
     "output_type": "stream",
     "text": [
      "-0.00315853122842492\n"
     ]
    },
    {
     "data": {
      "image/png": "[encoded data removed]",
      "text/plain": [
       "<Figure size 640x480 with 1 Axes>"
      ]
     },
     "metadata": {},
     "output_type": "display_data"
    }
   ],
   "source": [
    "point = (NE_data[N-1][0], error)\n",
    "b = point[1] - dE * point[0]\n",
    "tangent = [dE*c + b for c in c0s]\n",
    "m = (errors[-1] - errors[-2]) / (c0s[-1] - c0s[-2])\n",
    "print((m-dE)/m)\n",
    "plt.plot(c0s, tangent)\n",
    "plt.plot(c0s, errors)\n",
    "plt.plot([NE_data[N][0]], [0], 'r.')\n",
    "plt.show()"
   ]
  }
 ],
 "metadata": {
  "kernelspec": {
   "display_name": "base",
   "language": "python",
   "name": "python3"
  },
  "language_info": {
   "codemirror_mode": {
    "name": "ipython",
    "version": 3
   },
   "file_extension": ".py",
   "mimetype": "text/x-python",
   "name": "python",
   "nbconvert_exporter": "python",
   "pygments_lexer": "ipython3",
   "version": "3.9.18"
  }
 },
 "nbformat": 4,
 "nbformat_minor": 2
}
