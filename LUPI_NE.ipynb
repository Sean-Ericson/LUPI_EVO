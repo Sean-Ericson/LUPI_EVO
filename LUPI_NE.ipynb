{
 "cells": [
  {
   "cell_type": "code",
   "execution_count": 1,
   "metadata": {},
   "outputs": [],
   "source": [
    "import numpy as np\n",
    "import sympy as sp\n",
    "import matplotlib.pyplot as plt\n",
    "import pickle\n",
    "from datetime import datetime\n",
    "from functools import reduce\n",
    "from scipy.optimize import fsolve"
   ]
  },
  {
   "cell_type": "code",
   "execution_count": 2,
   "metadata": {},
   "outputs": [],
   "source": [
    "def full_soln(x):\n",
    "    return list(x) + [1 - sum(x[1:])]"
   ]
  },
  {
   "cell_type": "code",
   "execution_count": 3,
   "metadata": {},
   "outputs": [
    {
     "name": "stdout",
     "output_type": "stream",
     "text": [
      "N =  3\n",
      "Start Time:  2024-04-25 01:06:37.070018\n",
      "[0.28718707889821465, 0.4641016151377231, 0.2679491924341272, 0.26794919242814974]\n",
      "End Time:  2024-04-25 01:06:37.502620\n",
      "Elapsed Time: 0 days 0 hours 0 minutes 0 seconds 432 milliseconds 602 microseconds\n",
      "\n",
      "N =  4\n",
      "Start Time:  2024-04-25 01:06:37.502620\n",
      "[0.1684375244852117, 0.4477365732247908, 0.4248727049531577, 0.12565488835943256, 0.001735833462618963]\n",
      "End Time:  2024-04-25 01:06:38.739631\n",
      "Elapsed Time: 0 days 0 hours 0 minutes 1 seconds 237 milliseconds 11 microseconds\n",
      "\n"
     ]
    }
   ],
   "source": [
    "NE_data = dict()\n",
    "for N in range(3, 5):\n",
    "    start_time = datetime.now()\n",
    "    print(\"N = \", N)\n",
    "    print(\"Start Time: \", start_time)\n",
    "    \n",
    "    p = sp.IndexedBase('p')\n",
    "    i = sp.symbols('i', cls=sp.Idx, range=(1,N))\n",
    "    Z0, c0 = sp.symbols('Z0, c0')\n",
    "    Z0 = sp.summation(p[i], (i, 1, N))**(N-1)\n",
    "    L = lambda i: lambda Q: p[i]*sp.diff(Q, p[i]).subs(p[i], 0)\n",
    "    OneMinusL = lambda i: lambda Q: Q - L(i)(Q)\n",
    "    Z = lambda i: Z0 if i==0 else reduce(lambda f,g: lambda x: f(g(x)), [OneMinusL(x) for x in range(1, i+1)])(Z0)\n",
    "    c = lambda i: Z(i-1).subs(p[i], 0)\n",
    "    func = lambda x: [sp.lambdify([c0]+[p[i] for i in range(1, N)], c(j).subs(p[N], 1-sp.summation(p[i], (i, 1, N-1))).simplify()-c0)(*x) for j in range(1, N+1)]\n",
    "    soln = full_soln(fsolve(func, [1/N for _ in range(N)]))\n",
    "    print(soln)\n",
    "    NE_data[N] = soln\n",
    "    # with open(\"data/NE{}.pk\".format(N), 'wb') as file:\n",
    "    #     pickle.dump(soln, file)\n",
    "    \n",
    "    end_time = datetime.now()\n",
    "    print(\"End Time: \", end_time)\n",
    "    diff = end_time - start_time\n",
    "    print(\"Elapsed Time: {} days {} hours {} minutes {} seconds {} milliseconds {} microseconds\".format(diff.days, diff.seconds // 3600, (diff.seconds // 60) % 60, diff.seconds % 60, diff.microseconds // 1000, diff.microseconds % 1000))\n",
    "    print()"
   ]
  },
  {
   "cell_type": "code",
   "execution_count": 4,
   "metadata": {},
   "outputs": [],
   "source": [
    "N = 3\n",
    "p = sp.IndexedBase('p')\n",
    "i,j = sp.symbols('i j', cls=sp.Idx, range=(1,N))\n",
    "Z0, c0 = sp.symbols('Z0, c0')\n",
    "Z0 = sp.summation(p[i], (i, 1, N))**(N-1)\n",
    "L = lambda i: lambda Q: p[i]*sp.diff(Q, p[i]).subs(p[i], 0)\n",
    "OneMinusL = lambda i: lambda Q: Q - L(i)(Q)\n",
    "Z = lambda i: Z0 if i==0 else reduce(lambda f,g: lambda x: f(g(x)), [OneMinusL(x) for x in range(1, i+1)])(Z0)\n",
    "c = lambda i: Z(i-1).subs(p[i], 0)"
   ]
  },
  {
   "cell_type": "code",
   "execution_count": 5,
   "metadata": {},
   "outputs": [
    {
     "data": {
      "text/latex": [
       "$\\displaystyle \\left(1 - {p}_{1}\\right)^{2}$"
      ],
      "text/plain": [
       "(1 - p[1])**2"
      ]
     },
     "metadata": {},
     "output_type": "display_data"
    },
    {
     "data": {
      "text/latex": [
       "$\\displaystyle \\left(1 - {p}_{2}\\right)^{2} - 2 \\left(- {p}_{1} - {p}_{2} + 1\\right) {p}_{1}$"
      ],
      "text/plain": [
       "(1 - p[2])**2 - 2*(-p[1] - p[2] + 1)*p[1]"
      ]
     },
     "metadata": {},
     "output_type": "display_data"
    },
    {
     "data": {
      "text/latex": [
       "$\\displaystyle \\left({p}_{1} + {p}_{2}\\right)^{2} - 2 {p}_{1} {p}_{2}$"
      ],
      "text/plain": [
       "(p[1] + p[2])**2 - 2*p[1]*p[2]"
      ]
     },
     "metadata": {},
     "output_type": "display_data"
    }
   ],
   "source": [
    "for i in range(1, N+1):\n",
    "    display(c(i).subs(p[N], 1-sp.summation(p[j], (j, 1, N-1))))"
   ]
  },
  {
   "cell_type": "code",
   "execution_count": 9,
   "metadata": {},
   "outputs": [
    {
     "data": {
      "text/latex": [
       "$\\displaystyle \\left(1 - {p}_{1}\\right)^{2} - 0.287$"
      ],
      "text/plain": [
       "(1 - p[1])**2 - 0.287"
      ]
     },
     "metadata": {},
     "output_type": "display_data"
    },
    {
     "data": {
      "text/latex": [
       "$\\displaystyle \\left(1 - {p}_{1}\\right)^{2} - 0.287$"
      ],
      "text/plain": [
       "(1 - p[1])**2 - 0.287"
      ]
     },
     "metadata": {},
     "output_type": "display_data"
    },
    {
     "name": "stdout",
     "output_type": "stream",
     "text": [
      "0.464276190560845\n"
     ]
    },
    {
     "data": {
      "text/latex": [
       "$\\displaystyle \\left(1 - {p}_{2}\\right)^{2} - 2 \\left(- {p}_{1} - {p}_{2} + 1\\right) {p}_{1} - 0.287$"
      ],
      "text/plain": [
       "(1 - p[2])**2 - 2*(-p[1] - p[2] + 1)*p[1] - 0.287"
      ]
     },
     "metadata": {},
     "output_type": "display_data"
    },
    {
     "data": {
      "text/latex": [
       "$\\displaystyle \\left(1 - {p}_{2}\\right)^{2} + 0.92855238112169 {p}_{2} - 0.78444761887831$"
      ],
      "text/plain": [
       "(1 - p[2])**2 + 0.92855238112169*p[2] - 0.78444761887831"
      ]
     },
     "metadata": {},
     "output_type": "display_data"
    },
    {
     "name": "stdout",
     "output_type": "stream",
     "text": [
      "0.268426935386520\n"
     ]
    },
    {
     "data": {
      "text/latex": [
       "$\\displaystyle \\left(1 - {p}_{3}\\right)^{2} - 2 \\left(- {p}_{2} - {p}_{3} + 1\\right) {p}_{2} - 0.287$"
      ],
      "text/plain": [
       "(1 - p[3])**2 - 2*(-p[2] - p[3] + 1)*p[2] - 0.287"
      ]
     },
     "metadata": {},
     "output_type": "display_data"
    },
    {
     "data": {
      "text/latex": [
       "$\\displaystyle \\left(1 - {p}_{3}\\right)^{2} + 0.536853870773041 {p}_{3} - 0.679747831491042$"
      ],
      "text/plain": [
       "(1 - p[3])**2 + 0.536853870773041*p[3] - 0.679747831491042"
      ]
     },
     "metadata": {},
     "output_type": "display_data"
    },
    {
     "name": "stdout",
     "output_type": "stream",
     "text": [
      "[0.267949315913092, 1.19519681331387]\n"
     ]
    }
   ],
   "source": [
    "c0 = 0.287\n",
    "ps = dict()\n",
    "for n in range(1, N):\n",
    "    func = c(n).subs(p[N], 1-sp.summation(p[j], (j, 1, N-1)))-c0\n",
    "    display(func)\n",
    "    func = func.subs(ps)\n",
    "    ps[p[n]] = sp.solve(func, p[n])[0]\n",
    "    display(func)\n",
    "    print(ps[p[n]])\n",
    "func = c(N).subs(p[1], 1-sp.summation(p[j], (j, 2, N)))-c0\n",
    "display(func)\n",
    "func = func.subs(ps)\n",
    "display(func)\n",
    "pN = sp.solve(func, p[N])\n",
    "print(pN)"
   ]
  },
  {
   "cell_type": "code",
   "execution_count": 7,
   "metadata": {},
   "outputs": [
    {
     "data": {
      "text/latex": [
       "$\\displaystyle \\left({p}_{1} + {p}_{2}\\right)^{2} - 2 {p}_{1} {p}_{2}$"
      ],
      "text/plain": [
       "(p[1] + p[2])**2 - 2*p[1]*p[2]"
      ]
     },
     "execution_count": 7,
     "metadata": {},
     "output_type": "execute_result"
    }
   ],
   "source": [
    "c(N)"
   ]
  },
  {
   "cell_type": "code",
   "execution_count": null,
   "metadata": {},
   "outputs": [],
   "source": []
  }
 ],
 "metadata": {
  "kernelspec": {
   "display_name": "base",
   "language": "python",
   "name": "python3"
  },
  "language_info": {
   "codemirror_mode": {
    "name": "ipython",
    "version": 3
   },
   "file_extension": ".py",
   "mimetype": "text/x-python",
   "name": "python",
   "nbconvert_exporter": "python",
   "pygments_lexer": "ipython3",
   "version": "3.9.18"
  }
 },
 "nbformat": 4,
 "nbformat_minor": 2
}
