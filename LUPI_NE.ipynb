{
 "cells": [
  {
   "cell_type": "code",
   "execution_count": 1,
   "metadata": {},
   "outputs": [],
   "source": [
    "import numpy as np\n",
    "import sympy as sp\n",
    "from sympy.abc import x, y\n",
    "import matplotlib.pyplot as plt\n",
    "import pickle\n",
    "from datetime import datetime\n",
    "from functools import reduce\n",
    "from scipy.optimize import fsolve"
   ]
  },
  {
   "cell_type": "code",
   "execution_count": 2,
   "metadata": {},
   "outputs": [],
   "source": [
    "def full_soln(x):\n",
    "    return list(x) + [1 - sum(x[1:])]"
   ]
  },
  {
   "cell_type": "code",
   "execution_count": 3,
   "metadata": {},
   "outputs": [],
   "source": [
    "# NE_data = dict()\n",
    "# for N in range(3, 5):\n",
    "#     start_time = datetime.now()\n",
    "#     print(\"N = \", N)\n",
    "#     print(\"Start Time: \", start_time)\n",
    "    \n",
    "#     p = sp.IndexedBase('p')\n",
    "#     i = sp.symbols('i', cls=sp.Idx, range=(1,N))\n",
    "#     Z0, c0 = sp.symbols('Z0, c0')\n",
    "#     Z0 = sp.summation(p[i], (i, 1, N))**(N-1)\n",
    "#     L = lambda i: lambda Q: p[i]*sp.diff(Q, p[i]).subs(p[i], 0)\n",
    "#     OneMinusL = lambda i: lambda Q: Q - L(i)(Q)\n",
    "#     Z = lambda i: Z0 if i==0 else reduce(lambda f,g: lambda x: f(g(x)), [OneMinusL(x) for x in range(1, i+1)])(Z0)\n",
    "#     c = lambda i: Z(i-1).subs(p[i], 0)\n",
    "#     func = lambda x: [sp.lambdify([c0]+[p[i] for i in range(1, N)], c(j).subs(p[N], 1-sp.summation(p[i], (i, 1, N-1))).simplify()-c0)(*x) for j in range(1, N+1)]\n",
    "#     soln = full_soln(fsolve(func, [1/N for _ in range(N)]))\n",
    "#     print(soln)\n",
    "#     NE_data[N] = soln\n",
    "#     # with open(\"data/NE{}.pk\".format(N), 'wb') as file:\n",
    "#     #     pickle.dump(soln, file)\n",
    "    \n",
    "#     end_time = datetime.now()\n",
    "#     print(\"End Time: \", end_time)\n",
    "#     diff = end_time - start_time\n",
    "#     print(\"Elapsed Time: {} days {} hours {} minutes {} seconds {} milliseconds {} microseconds\".format(diff.days, diff.seconds // 3600, (diff.seconds // 60) % 60, diff.seconds % 60, diff.microseconds // 1000, diff.microseconds % 1000))\n",
    "#     print()"
   ]
  },
  {
   "cell_type": "code",
   "execution_count": 4,
   "metadata": {},
   "outputs": [],
   "source": [
    "N = 3\n",
    "p = sp.IndexedBase('p')\n",
    "i,j = sp.symbols('i j', cls=sp.Idx, range=(1,N))\n",
    "Z0, c0 = sp.symbols('Z0, c0')\n",
    "Z0 = sp.summation(p[i], (i, 1, N))**(N-1)\n",
    "L = lambda i: lambda Q: p[i]*sp.diff(Q, p[i]).subs(p[i], 0)\n",
    "OneMinusL = lambda i: lambda Q: Q - L(i)(Q)\n",
    "Z = lambda i: Z0 if i==0 else reduce(lambda f,g: lambda x: f(g(x)), [OneMinusL(x) for x in range(1, i+1)])(Z0)\n",
    "c = lambda i: Z(i-1).subs(p[i], 0)"
   ]
  },
  {
   "cell_type": "code",
   "execution_count": 5,
   "metadata": {},
   "outputs": [
    {
     "data": {
      "text/latex": [
       "$\\displaystyle \\left({p}_{2} + {p}_{3}\\right)^{2}$"
      ],
      "text/plain": [
       "(p[2] + p[3])**2"
      ]
     },
     "metadata": {},
     "output_type": "display_data"
    },
    {
     "data": {
      "text/latex": [
       "$\\displaystyle \\left({p}_{1} + {p}_{3}\\right)^{2} - 2 {p}_{1} {p}_{3}$"
      ],
      "text/plain": [
       "(p[1] + p[3])**2 - 2*p[1]*p[3]"
      ]
     },
     "metadata": {},
     "output_type": "display_data"
    },
    {
     "data": {
      "text/latex": [
       "$\\displaystyle \\left({p}_{1} + {p}_{2}\\right)^{2} - 2 {p}_{1} {p}_{2}$"
      ],
      "text/plain": [
       "(p[1] + p[2])**2 - 2*p[1]*p[2]"
      ]
     },
     "metadata": {},
     "output_type": "display_data"
    }
   ],
   "source": [
    "for i in range(1, N):\n",
    "    display(c(i))\n",
    "display(c(N))"
   ]
  },
  {
   "cell_type": "code",
   "execution_count": 6,
   "metadata": {},
   "outputs": [],
   "source": [
    "# c0 = 0.2\n",
    "# ps = dict()\n",
    "# for n in range(1, N):\n",
    "#     func = c(n).subs(p[N], 1-sp.summation(p[j], (j, 1, N-1)))-c0\n",
    "#     display(func)\n",
    "#     func = func.subs(ps)\n",
    "#     ps[p[n]] = sp.solve(func, p[n])[0]\n",
    "#     display(func)\n",
    "#     print(ps[p[n]])\n",
    "# func = c(N).subs(p[1], 1-sp.summation(p[j], (j, 2, N)))-c0\n",
    "# display(func)\n",
    "# func = func.subs(ps)\n",
    "# display(func)\n",
    "# pN = sp.solve(func, p[N])\n",
    "# print(pN)"
   ]
  },
  {
   "cell_type": "code",
   "execution_count": 12,
   "metadata": {},
   "outputs": [
    {
     "data": {
      "text/latex": [
       "$\\displaystyle - c_{0} + \\left(1 - {p}_{1}\\right)^{2}$"
      ],
      "text/plain": [
       "-c0 + (1 - p[1])**2"
      ]
     },
     "metadata": {},
     "output_type": "display_data"
    },
    {
     "data": {
      "text/latex": [
       "$\\displaystyle - c_{0} + \\left(1 - {p}_{2}\\right)^{2} - 2 \\left(- {p}_{1} - {p}_{2} + 1\\right) {p}_{1}$"
      ],
      "text/plain": [
       "-c0 + (1 - p[2])**2 - 2*(-p[1] - p[2] + 1)*p[1]"
      ]
     },
     "metadata": {},
     "output_type": "display_data"
    },
    {
     "name": "stdout",
     "output_type": "stream",
     "text": [
      "[0.480384757729337, 0.321548373407327, 0.198066868863336]\n",
      "1.00000000000000\n"
     ]
    }
   ],
   "source": [
    "ps = {c0: 0.27}\n",
    "derivs = dict()\n",
    "for i in range(1, N):\n",
    "    ci = c(i).subs(p[N], 1 - sp.summation(p[j], (j, 1, N-1)))\n",
    "    eq = ci - c0\n",
    "    display(eq)\n",
    "    soln = sp.solve(eq.subs(ps), p[i])\n",
    "    soln = soln[0]\n",
    "    ps[p[i]] = soln\n",
    "    \n",
    "    pdvs = dict()\n",
    "    for l in range(i):\n",
    "        sub = {p[i]: y, (c0 if l==0 else p[l]): x}\n",
    "        inv_sub = {v:k for k,v in sub.items()}\n",
    "        pdvs[l] = sp.idiff(eq.subs(sub), y, x).subs(inv_sub).subs(ps).simplify()\n",
    "\n",
    "    derivs[i] = pdvs[0] + sum([derivs[k]*pdvs[k] for k in range(1, i)])\n",
    "\n",
    "ps[p[N]] = 1 - sp.summation(p[j], (j, 1, N-1)).subs(ps)\n",
    "strat = [ps[p[1]], ps[p[2]], ps[p[3]]]\n",
    "sum(np.abs(prob) for prob in strat)\n",
    "print(strat)"
   ]
  },
  {
   "cell_type": "code",
   "execution_count": 15,
   "metadata": {},
   "outputs": [
    {
     "data": {
      "text/latex": [
       "$\\displaystyle 0.334162871899572$"
      ],
      "text/plain": [
       "0.334162871899572"
      ]
     },
     "execution_count": 15,
     "metadata": {},
     "output_type": "execute_result"
    }
   ],
   "source": [
    "c(N).subs(ps)"
   ]
  },
  {
   "cell_type": "code",
   "execution_count": null,
   "metadata": {},
   "outputs": [],
   "source": []
  }
 ],
 "metadata": {
  "kernelspec": {
   "display_name": "base",
   "language": "python",
   "name": "python3"
  },
  "language_info": {
   "codemirror_mode": {
    "name": "ipython",
    "version": 3
   },
   "file_extension": ".py",
   "mimetype": "text/x-python",
   "name": "python",
   "nbconvert_exporter": "python",
   "pygments_lexer": "ipython3",
   "version": "3.9.18"
  }
 },
 "nbformat": 4,
 "nbformat_minor": 2
}
