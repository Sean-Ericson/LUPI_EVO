{
 "cells": [
  {
   "cell_type": "code",
   "execution_count": 1,
   "metadata": {},
   "outputs": [],
   "source": [
    "import numpy as np\n",
    "import sympy as sp\n",
    "from sympy.abc import x, y\n",
    "import matplotlib.pyplot as plt\n",
    "import pickle\n",
    "from datetime import datetime\n",
    "from functools import reduce\n",
    "from scipy.optimize import fsolve\n",
    "from IPython.display import clear_output"
   ]
  },
  {
   "cell_type": "code",
   "execution_count": 3,
   "metadata": {},
   "outputs": [],
   "source": [
    "with open(\"data/NE_3-14.pk\", 'rb') as file:\n",
    "    data = pickle.load(file)"
   ]
  },
  {
   "cell_type": "code",
   "execution_count": 4,
   "metadata": {},
   "outputs": [
    {
     "name": "stdout",
     "output_type": "stream",
     "text": [
      "N =  15\n",
      "Start Time:  2024-04-30 10:11:33.160137\n",
      "[0.0619134691684164, 0.18021694243107564, 0.17234691049741163, 0.16223592309729187, 0.14871839429724848, 0.12990629877789203, 0.10328212646844286, 0.06786880379737693, 0.029774834890986486, 0.005476181597898569, 0.00017341336686419527, 1.707896832623507e-07, -1.222646639286061e-12, -2.0758583734207493e-12, 1.9591014831574416e-13, -9.069189843557979e-12]\n",
      "End Time:  2024-04-30 22:52:43.985383\n",
      "Elapsed Time: 0 days 12 hours 41 minutes 10 seconds 825 milliseconds 246 microseconds\n",
      "\n",
      "N =  16\n",
      "Start Time:  2024-04-30 22:52:43.985383\n"
     ]
    }
   ],
   "source": [
    "full_soln = lambda x: list(x) + [1 - sum(x[1:])]\n",
    "\n",
    "N_min = 3\n",
    "for N in range(15, 31):\n",
    "    start_time = datetime.now()\n",
    "    print(\"N = \", N)\n",
    "    print(\"Start Time: \", start_time)\n",
    "    \n",
    "    p = sp.IndexedBase('p')\n",
    "    i = sp.symbols('i', cls=sp.Idx, range=(1,N))\n",
    "    Z0, c0 = sp.symbols('Z0, c0')\n",
    "    Z0 = sp.summation(p[i], (i, 1, N))**(N-1)\n",
    "    L = lambda i: lambda Q: p[i]*sp.diff(Q, p[i]).subs(p[i], 0)\n",
    "    OneMinusL = lambda i: lambda Q: Q - L(i)(Q)\n",
    "    \n",
    "    Z_memo = dict()\n",
    "    def Z(i):\n",
    "        if i == 0:\n",
    "            return Z0\n",
    "        if i in Z_memo.keys():\n",
    "            return Z_memo[i]\n",
    "        Z_memo[i] = OneMinusL(i)(Z(i-1))\n",
    "        return Z_memo[i]\n",
    "\n",
    "    c_memo = dict()\n",
    "    def c(i):\n",
    "        if i in c_memo.keys():\n",
    "            return c_memo[i]\n",
    "        c_memo[i] = Z(i-1).subs(p[i], 0)\n",
    "        return c_memo[i]\n",
    "    \n",
    "    func = lambda x: [sp.lambdify([c0]+[p[i] for i in range(1, N)], c(j).subs(p[N], 1-sp.summation(p[i], (i, 1, N-1)))-c0)(*x) for j in range(1, N+1)]\n",
    "    soln = full_soln(fsolve(func, [1/N for _ in range(N)] if N == N_min else data[N-1]))\n",
    "    data[N] = soln\n",
    "    print(soln)\n",
    "    \n",
    "    with open(\"data/test/NE{}.pk\".format(N), 'wb') as file:\n",
    "        pickle.dump(data, file)\n",
    "\n",
    "    end_time = datetime.now()\n",
    "    print(\"End Time: \", end_time)\n",
    "    diff = end_time - start_time\n",
    "    print(\"Elapsed Time: {} days {} hours {} minutes {} seconds {} milliseconds {} microseconds\".format(diff.days, diff.seconds // 3600, (diff.seconds // 60) % 60, diff.seconds % 60, diff.microseconds // 1000, diff.microseconds % 1000))\n",
    "    print()"
   ]
  },
  {
   "cell_type": "code",
   "execution_count": null,
   "metadata": {},
   "outputs": [],
   "source": []
  }
 ],
 "metadata": {
  "kernelspec": {
   "display_name": "base",
   "language": "python",
   "name": "python3"
  },
  "language_info": {
   "codemirror_mode": {
    "name": "ipython",
    "version": 3
   },
   "file_extension": ".py",
   "mimetype": "text/x-python",
   "name": "python",
   "nbconvert_exporter": "python",
   "pygments_lexer": "ipython3",
   "version": "3.9.18"
  }
 },
 "nbformat": 4,
 "nbformat_minor": 2
}
